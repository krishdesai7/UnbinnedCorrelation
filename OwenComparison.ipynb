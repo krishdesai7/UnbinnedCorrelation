{
 "cells": [
  {
   "cell_type": "code",
   "execution_count": 1,
   "id": "2531b0fd-e1e5-46b1-aaac-04b7922d531f",
   "metadata": {},
   "outputs": [],
   "source": [
    "import matplotlib.pyplot as plt\n",
    "import numpy as np\n",
    "\n",
    "import time\n",
    "\n",
    "import sys\n",
    "import os\n",
    "\n",
    "from datetime import datetime\n",
    "import subprocess"
   ]
  },
  {
   "cell_type": "code",
   "execution_count": 2,
   "id": "229f4338-07b7-4dd0-a2b2-006bd59c5d38",
   "metadata": {},
   "outputs": [],
   "source": [
    "data_size = 10**4\n",
    "sim_size = 10**5\n",
    "n_iterations = 5\n",
    "n_bootstraps = 500\n",
    "epsilon = 1e-8\n",
    "rcond = 1e-3\n",
    "\n",
    "rng_seed = 5048\n",
    "rng = np.random.default_rng(seed = rng_seed )\n",
    "\n",
    "mu_true, var_true = 0.2, 0.81\n",
    "mu_gen, var_gen = 0.0, 1.0\n",
    "\n",
    "\n",
    "#smearing = 0.00001\n",
    "smearing = 0.25\n",
    "#smearing = 0.50\n",
    "#smearing = 0.75\n",
    "\n",
    "min_bin_width = 0.20\n",
    "\n",
    "\n",
    "output_dir = 'input-samples-smearing-%.2f-v1a' % smearing"
   ]
  },
  {
   "cell_type": "code",
   "execution_count": 3,
   "id": "6099a335-60d2-47d6-a9f6-1d9d8133b7c8",
   "metadata": {},
   "outputs": [],
   "source": [
    "truth = rng.normal(mu_true, np.sqrt(var_true), (n_bootstraps, data_size))\n",
    "data = rng.normal(truth, smearing)\n",
    "gen = rng.normal(mu_gen, np.sqrt(var_gen), (n_bootstraps, sim_size))\n",
    "sim = rng.normal(gen, smearing)"
   ]
  },
  {
   "cell_type": "code",
   "execution_count": 4,
   "id": "07c4b01e-ce6c-4b4e-8363-35e8d310372f",
   "metadata": {},
   "outputs": [
    {
     "name": "stdout",
     "output_type": "stream",
     "text": [
      "   0 :  binhigh =  -3.339, purity =   1.000\n",
      "   1 :  binhigh =  -2.920, purity =   1.000\n",
      "   2 :  binhigh =  -2.720, purity =   1.000\n",
      "   3 :  binhigh =  -2.520, purity =   0.625\n",
      "   4 :  binhigh =  -2.105, purity =   0.611\n",
      "   5 :  binhigh =  -1.748, purity =   0.532\n",
      "   6 :  binhigh =  -1.375, purity =   0.508\n",
      "   7 :  binhigh =  -0.991, purity =   0.539\n",
      "   8 :  binhigh =  -0.600, purity =   0.516\n",
      "   9 :  binhigh =  -0.206, purity =   0.534\n",
      "  10 :  binhigh =   0.186, purity =   0.520\n",
      "  11 :  binhigh =   0.572, purity =   0.514\n",
      "  12 :  binhigh =   0.950, purity =   0.509\n",
      "  13 :  binhigh =   1.357, purity =   0.525\n",
      "  14 :  binhigh =   1.759, purity =   0.508\n",
      "  15 :  binhigh =   2.149, purity =   0.508\n",
      "  16 :  binhigh =   2.535, purity =   0.515\n",
      "  17 :  binhigh =   2.943, purity =   0.528\n",
      "  18 :  binhigh =   3.211, purity =   0.571\n",
      "  19 :  binhigh =   3.803, purity =   1.000\n"
     ]
    }
   ],
   "source": [
    "\n",
    "bins = [truth.min()]\n",
    "i = 0\n",
    "while bins[-1] < truth.max() and i < len(bins):\n",
    "    for binhigh in np.linspace(bins[i] + epsilon, truth.max(), 200):\n",
    "        in_bin = (truth[0] > bins[i]) & (truth[0] < binhigh)\n",
    "        in_reco_bin = (data[0] > bins[i]) & (data[0] < binhigh)\n",
    "        if np.sum(in_bin) > 0:\n",
    "            purity = np.sum(in_bin & in_reco_bin) / np.sum(in_bin)\n",
    "            if purity > (0.5):\n",
    "                binwid = binhigh - bins[-1]\n",
    "                if binwid < min_bin_width :\n",
    "                    binhigh = bins[-1] + min_bin_width\n",
    "                #print(f\"{binhigh = }, {purity = }\")\n",
    "                print(' %3d :  binhigh = %7.3f, purity = %7.3f' % (i, binhigh, purity))\n",
    "                i += 1\n",
    "                bins.append(binhigh)\n",
    "                break\n",
    "    else:\n",
    "        break\n",
    "        \n",
    "#-- add a last bin\n",
    "bins.append(truth.max())\n",
    "        \n",
    "bins = np.array(bins[1:-1])\n",
    "bin_widths = np.diff(bins)\n",
    "bin_centers = 0.5 * (bins[:-1] + bins[1:])\n",
    "n_bins = len(bins) - 1"
   ]
  },
  {
   "cell_type": "code",
   "execution_count": null,
   "id": "cf792ba3-0ab9-4f39-9b9f-e59c86b19f53",
   "metadata": {},
   "outputs": [],
   "source": [
    "fitType = 'integral within bin'\n"
   ]
  }
 ],
 "metadata": {
  "kernelspec": {
   "display_name": "Python 3 (ipykernel)",
   "language": "python",
   "name": "python3"
  },
  "language_info": {
   "codemirror_mode": {
    "name": "ipython",
    "version": 3
   },
   "file_extension": ".py",
   "mimetype": "text/x-python",
   "name": "python",
   "nbconvert_exporter": "python",
   "pygments_lexer": "ipython3",
   "version": "3.12.2"
  }
 },
 "nbformat": 4,
 "nbformat_minor": 5
}
