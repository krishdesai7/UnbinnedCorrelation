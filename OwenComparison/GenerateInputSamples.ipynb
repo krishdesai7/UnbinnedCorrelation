{
 "cells": [
  {
   "cell_type": "code",
   "execution_count": 1,
   "id": "f259224f-4c21-49ed-8f0c-6570f601558e",
   "metadata": {},
   "outputs": [],
   "source": [
    "import numpy as np\n",
    "import os"
   ]
  },
  {
   "cell_type": "code",
   "execution_count": 2,
   "id": "32866c4e-2025-44bd-995b-863480e6d13c",
   "metadata": {},
   "outputs": [],
   "source": [
    "data_size = 10**4\n",
    "sim_size = 10**5\n",
    "n_iterations = 5\n",
    "n_bootstraps = 500\n",
    "epsilon = 1e-8\n",
    "rcond = 1e-3\n",
    "\n",
    "rng_seed = 5048\n",
    "rng = np.random.default_rng(seed = rng_seed )\n",
    "\n",
    "mu_true, var_true = 0.2, 0.81\n",
    "mu_gen, var_gen = 0.0, 1.0\n",
    "\n",
    "\n",
    "#smearing = 0.00001\n",
    "smearing = 0.25\n",
    "#smearing = 0.50\n",
    "#smearing = 0.75\n",
    "\n",
    "min_bin_width = 0.20\n",
    "\n",
    "\n",
    "output_dir = 'input-samples-smearing-%.2f-v1a' % smearing"
   ]
  },
  {
   "cell_type": "code",
   "execution_count": 3,
   "id": "0df5aae8-ae10-4ec7-9297-a3f8c01a1d63",
   "metadata": {},
   "outputs": [],
   "source": [
    "truth = rng.normal(mu_true, np.sqrt(var_true), (n_bootstraps, data_size))\n",
    "data = rng.normal(truth, smearing)\n",
    "gen = rng.normal(mu_gen, np.sqrt(var_gen), (n_bootstraps, sim_size))\n",
    "sim = rng.normal(gen, smearing)"
   ]
  },
  {
   "cell_type": "code",
   "execution_count": 4,
   "id": "8c5cf779-0ae0-4fb3-a43e-dbac9a2b6165",
   "metadata": {},
   "outputs": [
    {
     "name": "stdout",
     "output_type": "stream",
     "text": [
      "   0 :  binhigh =  -3.339, purity =   1.000\n",
      "   1 :  binhigh =  -2.920, purity =   1.000\n",
      "   2 :  binhigh =  -2.720, purity =   1.000\n",
      "   3 :  binhigh =  -2.520, purity =   0.625\n",
      "   4 :  binhigh =  -2.105, purity =   0.611\n",
      "   5 :  binhigh =  -1.748, purity =   0.532\n",
      "   6 :  binhigh =  -1.375, purity =   0.508\n",
      "   7 :  binhigh =  -0.991, purity =   0.539\n",
      "   8 :  binhigh =  -0.600, purity =   0.516\n",
      "   9 :  binhigh =  -0.206, purity =   0.534\n",
      "  10 :  binhigh =   0.186, purity =   0.520\n",
      "  11 :  binhigh =   0.572, purity =   0.514\n",
      "  12 :  binhigh =   0.950, purity =   0.509\n",
      "  13 :  binhigh =   1.357, purity =   0.525\n",
      "  14 :  binhigh =   1.759, purity =   0.508\n",
      "  15 :  binhigh =   2.149, purity =   0.508\n",
      "  16 :  binhigh =   2.535, purity =   0.515\n",
      "  17 :  binhigh =   2.943, purity =   0.528\n",
      "  18 :  binhigh =   3.211, purity =   0.571\n",
      "  19 :  binhigh =   3.803, purity =   1.000\n"
     ]
    }
   ],
   "source": [
    "\n",
    "bins = [truth.min()]\n",
    "i = 0\n",
    "while bins[-1] < truth.max() and i < len(bins):\n",
    "    for binhigh in np.linspace(bins[i] + epsilon, truth.max(), 200):\n",
    "        in_bin = (truth[0] > bins[i]) & (truth[0] < binhigh)\n",
    "        in_reco_bin = (data[0] > bins[i]) & (data[0] < binhigh)\n",
    "        if np.sum(in_bin) > 0:\n",
    "            purity = np.sum(in_bin & in_reco_bin) / np.sum(in_bin)\n",
    "            if purity > (0.5):\n",
    "                binwid = binhigh - bins[-1]\n",
    "                if binwid < min_bin_width :\n",
    "                    binhigh = bins[-1] + min_bin_width\n",
    "                #print(f\"{binhigh = }, {purity = }\")\n",
    "                print(' %3d :  binhigh = %7.3f, purity = %7.3f' % (i, binhigh, purity))\n",
    "                i += 1\n",
    "                bins.append(binhigh)\n",
    "                break\n",
    "    else:\n",
    "        break\n",
    "        \n",
    "#-- add a last bin\n",
    "bins.append(truth.max())\n",
    "        \n",
    "bins = np.array(bins[1:-1])\n",
    "bin_widths = np.diff(bins)\n",
    "bin_centers = 0.5 * (bins[:-1] + bins[1:])\n",
    "n_bins = len(bins) - 1"
   ]
  },
  {
   "cell_type": "code",
   "execution_count": 6,
   "id": "94d0f245-6e93-4f43-8e35-e5d5bdb86575",
   "metadata": {},
   "outputs": [
    {
     "name": "stdout",
     "output_type": "stream",
     "text": [
      "data_size 10000\n",
      "sim_size 100000\n",
      "n_bootstraps 500\n",
      "rng_seed 5048\n",
      "mu_true 0.2000\n",
      "mu_gen 0.0000\n",
      "var_true 0.8100\n",
      "var_gen 1.0000\n",
      "smearing 0.25\n",
      "min_bin_width 0.2000\n",
      "\n"
     ]
    }
   ],
   "source": [
    "os.makedirs(output_dir, exist_ok=True)\n",
    "\n",
    "out_file = os.path.join(output_dir, 'config.txt')\n",
    "\n",
    "# List of parameters with their formatting\n",
    "params = [\n",
    "    ('data_size', data_size, '%d'),\n",
    "    ('sim_size', sim_size, '%d'),\n",
    "    ('n_bootstraps', n_bootstraps, '%d'),\n",
    "    ('rng_seed', rng_seed, '%d'),\n",
    "    ('mu_true', mu_true, '%.4f'),\n",
    "    ('mu_gen', mu_gen, '%.4f'),\n",
    "    ('var_true', var_true, '%.4f'),\n",
    "    ('var_gen', var_gen, '%.4f'),\n",
    "    ('smearing', smearing, '%.2f'),\n",
    "    ('min_bin_width', min_bin_width, '%.4f')\n",
    "]\n",
    "\n",
    "# Write parameters to the config file\n",
    "with open(out_file, 'w') as text_file:\n",
    "    for name, value, fmt in params:\n",
    "        text_file.write(f'{name} {fmt % value}\\n')\n",
    "\n",
    "# Read and print the contents of the config file\n",
    "with open(out_file, 'r') as f:\n",
    "    print(f.read())"
   ]
  },
  {
   "cell_type": "code",
   "execution_count": 7,
   "id": "13780454-b26d-4d6c-a312-6d0691f1aa70",
   "metadata": {},
   "outputs": [
    {
     "name": "stdout",
     "output_type": "stream",
     "text": [
      "Saving binning in input-samples-smearing-0.25-v1a/binning.npy\n",
      "Saving in human readable format: input-samples-smearing-0.25-v1a/binning.txt\n",
      "bins [-3.33891579 -2.92013449 -2.72013449 -2.52013449 -2.10473433 -1.7479722\n",
      " -1.37525438 -0.99112856 -0.60008591 -0.2064736   0.18558461  0.57225777\n",
      "  0.95006562  1.3565748   1.75879418  2.14907009  2.53517848  2.94306071\n",
      "  3.21113133  3.80271041]\n",
      "bin_widths [0.4187813  0.2        0.2        0.41540016 0.35676213 0.37271782\n",
      " 0.38412581 0.39104265 0.39361232 0.39205821 0.38667316 0.37780785\n",
      " 0.40650918 0.40221938 0.39027591 0.38610839 0.40788223 0.26807061\n",
      " 0.59157908]\n",
      "bin_centers [-3.12952514 -2.82013449 -2.62013449 -2.31243441 -1.92635326 -1.56161329\n",
      " -1.18319147 -0.79560724 -0.40327975 -0.01044449  0.37892119  0.76116169\n",
      "  1.15332021  1.55768449  1.95393214  2.34212429  2.7391196   3.07709602\n",
      "  3.50692087]\n",
      "n_bins 19\n",
      "\n"
     ]
    }
   ],
   "source": [
    "binary_file_path = os.path.join(output_dir, 'binning.npy')\n",
    "text_file_path = os.path.join(output_dir, 'binning.txt')\n",
    "\n",
    "# Save numpy arrays to the binary file\n",
    "print(f'Saving binning in {binary_file_path}')\n",
    "with open(binary_file_path, 'wb') as f:\n",
    "    np.save(f, bins)\n",
    "    np.save(f, bin_widths)\n",
    "    np.save(f, bin_centers)\n",
    "    np.save(f, n_bins)\n",
    "\n",
    "# Prepare data for the text file\n",
    "binning_data = {\n",
    "    'bins': bins,\n",
    "    'bin_widths': bin_widths,\n",
    "    'bin_centers': bin_centers,\n",
    "    'n_bins': n_bins\n",
    "}\n",
    "\n",
    "# Write data to the text file\n",
    "print(f'Saving in human readable format: {text_file_path}')\n",
    "with open(text_file_path, 'w') as text_file:\n",
    "    for name, array in binning_data.items():\n",
    "        text_file.write(f'{name} {array}\\n')\n",
    "\n",
    "# Read and display the contents of the text file\n",
    "with open(text_file_path, 'r') as f:\n",
    "    content = f.read()\n",
    "    print(content)"
   ]
  },
  {
   "cell_type": "code",
   "execution_count": 8,
   "id": "a3f71264-9698-43fe-8716-f86eec9aef62",
   "metadata": {},
   "outputs": [
    {
     "name": "stdout",
     "output_type": "stream",
     "text": [
      "   0 : Saved sample to file input-samples-smearing-0.25-v1a/sample-0000.npz\n",
      "  50 : Saved sample to file input-samples-smearing-0.25-v1a/sample-0050.npz\n",
      " 100 : Saved sample to file input-samples-smearing-0.25-v1a/sample-0100.npz\n",
      " 150 : Saved sample to file input-samples-smearing-0.25-v1a/sample-0150.npz\n",
      " 200 : Saved sample to file input-samples-smearing-0.25-v1a/sample-0200.npz\n",
      " 250 : Saved sample to file input-samples-smearing-0.25-v1a/sample-0250.npz\n",
      " 300 : Saved sample to file input-samples-smearing-0.25-v1a/sample-0300.npz\n",
      " 350 : Saved sample to file input-samples-smearing-0.25-v1a/sample-0350.npz\n",
      " 400 : Saved sample to file input-samples-smearing-0.25-v1a/sample-0400.npz\n",
      " 450 : Saved sample to file input-samples-smearing-0.25-v1a/sample-0450.npz\n"
     ]
    }
   ],
   "source": [
    "for si in range(n_bootstraps):\n",
    "    out_file = os.path.join(output_dir, f'sample-{si:04d}.npz')\n",
    "    np.savez_compressed(out_file, truth=truth[si, :], data=data[si, :],\n",
    "                        gen=gen[si, :], sim=sim[si, :])\n",
    "    \n",
    "    if si % 50 == 0:\n",
    "        print(f'{si:4d} : Saved sample to file {out_file}')"
   ]
  },
  {
   "cell_type": "code",
   "execution_count": null,
   "id": "b83bc2c0-a936-4087-bc44-a259e0c17542",
   "metadata": {},
   "outputs": [],
   "source": []
  }
 ],
 "metadata": {
  "kernelspec": {
   "display_name": "Python 3 (ipykernel)",
   "language": "python",
   "name": "python3"
  },
  "language_info": {
   "codemirror_mode": {
    "name": "ipython",
    "version": 3
   },
   "file_extension": ".py",
   "mimetype": "text/x-python",
   "name": "python",
   "nbconvert_exporter": "python",
   "pygments_lexer": "ipython3",
   "version": "3.12.2"
  }
 },
 "nbformat": 4,
 "nbformat_minor": 5
}
