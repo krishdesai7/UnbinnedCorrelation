{
 "cells": [
  {
   "cell_type": "code",
   "execution_count": 1,
   "id": "4fcd7f88-6676-4e3f-8c1b-de279df7c4a8",
   "metadata": {},
   "outputs": [],
   "source": [
    "from OneVarBootstrap import *"
   ]
  },
  {
   "cell_type": "code",
   "execution_count": 104,
   "id": "fadfa9ec-6ffd-4917-89dc-1874b019944e",
   "metadata": {},
   "outputs": [],
   "source": [
    "mu_true = 0\n",
    "mu_gen = 0.5\n",
    "smearing = 0.001\n",
    "N = int(1e3)\n",
    "n_bootstraps = 10**2\n",
    "ibu_iterations = 10\n",
    "\n",
    "data_streams = generate_data(mu_true, mu_gen, smearing, N)"
   ]
  },
  {
   "cell_type": "code",
   "execution_count": 105,
   "id": "43f834e3-0cb0-4a8d-9102-d011710c3d79",
   "metadata": {},
   "outputs": [
    {
     "name": "stdout",
     "output_type": "stream",
     "text": [
      "binhigh = -3.0181255961073274, purity = 1.0\n",
      "binhigh = -2.9181255961073274, purity = 1.0\n",
      "binhigh = -2.5817739035440814, purity = 1.0\n",
      "binhigh = -2.4817739035440813, purity = 1.0\n",
      "binhigh = -2.3817739035440813, purity = 1.0\n",
      "binhigh = -2.281773903544081, purity = 1.0\n",
      "binhigh = -2.181773903544081, purity = 1.0\n",
      "binhigh = -2.081773903544081, purity = 1.0\n",
      "binhigh = -1.981773903544081, purity = 1.0\n",
      "binhigh = -1.8817739035440808, purity = 1.0\n",
      "binhigh = -1.7817739035440807, purity = 1.0\n",
      "binhigh = -1.6817739035440806, purity = 1.0\n",
      "binhigh = -1.5817739035440805, purity = 1.0\n",
      "binhigh = -1.4817739035440805, purity = 1.0\n",
      "binhigh = -1.3817739035440804, purity = 1.0\n",
      "binhigh = -1.2817739035440803, purity = 1.0\n",
      "binhigh = -1.1817739035440802, purity = 1.0\n",
      "binhigh = -1.08177390354408, purity = 1.0\n",
      "binhigh = -0.9817739035440801, purity = 1.0\n",
      "binhigh = -0.8817739035440801, purity = 1.0\n",
      "binhigh = -0.7817739035440802, purity = 0.972972972972973\n",
      "binhigh = -0.6817739035440802, purity = 1.0\n",
      "binhigh = -0.5817739035440802, purity = 1.0\n",
      "binhigh = -0.48177390354408023, purity = 1.0\n",
      "binhigh = -0.38177390354408025, purity = 1.0\n",
      "binhigh = -0.2817739035440803, purity = 1.0\n",
      "binhigh = -0.18177390354408027, purity = 1.0\n",
      "binhigh = -0.08177390354408026, purity = 1.0\n",
      "binhigh = 0.018226096455919744, purity = 1.0\n",
      "binhigh = 0.11822609645591975, purity = 1.0\n",
      "binhigh = 0.21822609645591975, purity = 1.0\n",
      "binhigh = 0.31822609645591976, purity = 1.0\n",
      "binhigh = 0.4182260964559198, purity = 0.975\n",
      "binhigh = 0.5182260964559198, purity = 1.0\n",
      "binhigh = 0.6182260964559197, purity = 1.0\n",
      "binhigh = 0.7182260964559197, purity = 1.0\n",
      "binhigh = 0.8182260964559197, purity = 1.0\n",
      "binhigh = 0.9182260964559197, purity = 1.0\n",
      "binhigh = 1.0182260964559198, purity = 1.0\n",
      "binhigh = 1.1182260964559199, purity = 1.0\n",
      "binhigh = 1.21822609645592, purity = 1.0\n",
      "binhigh = 1.31822609645592, purity = 1.0\n",
      "binhigh = 1.4182260964559201, purity = 1.0\n",
      "binhigh = 1.5182260964559202, purity = 1.0\n",
      "binhigh = 1.6182260964559203, purity = 1.0\n",
      "binhigh = 1.7182260964559204, purity = 1.0\n",
      "binhigh = 1.8182260964559205, purity = 1.0\n",
      "binhigh = 1.9182260964559206, purity = 1.0\n",
      "binhigh = 2.0182260964559204, purity = 1.0\n",
      "binhigh = 2.1182260964559205, purity = 1.0\n",
      "binhigh = 2.2182260964559206, purity = 1.0\n",
      "binhigh = 2.3182260964559207, purity = 1.0\n",
      "binhigh = 2.418226096455921, purity = 1.0\n",
      "binhigh = 2.621894805390619, purity = 1.0\n"
     ]
    }
   ],
   "source": [
    "bins, n_bins, bin_centers, bin_widths = create_bins(data_streams[0], data_streams[1], 0.5)"
   ]
  },
  {
   "cell_type": "code",
   "execution_count": 106,
   "id": "bb452b27-8e0d-494d-89cd-d91d8ca00499",
   "metadata": {},
   "outputs": [],
   "source": [
    "bootstrapped_data = bootstrap_data(N, n_bootstraps, data_streams)"
   ]
  },
  {
   "cell_type": "code",
   "execution_count": 107,
   "id": "f799e574-aff2-44cd-94e2-2ada07f418f3",
   "metadata": {},
   "outputs": [
    {
     "data": {
      "text/plain": [
       "(4, 100, 1000)"
      ]
     },
     "execution_count": 107,
     "metadata": {},
     "output_type": "execute_result"
    }
   ],
   "source": [
    "bootstrapped_data.shape"
   ]
  },
  {
   "cell_type": "code",
   "execution_count": 108,
   "id": "f9a646d2-21e5-46bf-a5df-b71063a68063",
   "metadata": {},
   "outputs": [
    {
     "name": "stdout",
     "output_type": "stream",
     "text": [
      "0.03201360360047634\n"
     ]
    }
   ],
   "source": [
    "print(np.std(np.mean(bootstrapped_data[0], axis = 1)))"
   ]
  },
  {
   "cell_type": "code",
   "execution_count": 109,
   "id": "27c7e7dd-af74-4e68-9b78-37816ebf2643",
   "metadata": {},
   "outputs": [],
   "source": [
    "digitized_data, response_matrices, normalized_matrices = create_response_matrices(bootstrapped_data,\n",
    "                                                                                  bins, n_bootstraps, n_bins)"
   ]
  },
  {
   "cell_type": "code",
   "execution_count": 110,
   "id": "47b9cab2-9ae9-4746-b14d-2cef5a4dc4d5",
   "metadata": {},
   "outputs": [],
   "source": [
    "marginals = compute_marginals(response_matrices, n_bootstraps, n_bins)"
   ]
  },
  {
   "cell_type": "code",
   "execution_count": 111,
   "id": "ceb8a3a6-b41a-44c2-951c-a4e76423b1c7",
   "metadata": {},
   "outputs": [],
   "source": [
    "ibu_results, ibu_normalized = generate_ibu_results(n_bootstraps, n_bins, \n",
    "                                                   response_matrices, marginals, \n",
    "                                                   ibu_iterations, bin_widths)"
   ]
  },
  {
   "cell_type": "code",
   "execution_count": 112,
   "id": "155cae1e-c729-4ef3-a30b-492520d96fc0",
   "metadata": {},
   "outputs": [
    {
     "data": {
      "text/plain": [
       "0.027806421316603196"
      ]
     },
     "execution_count": 112,
     "metadata": {},
     "output_type": "execute_result"
    }
   ],
   "source": [
    "np.std([np.average(bin_centers, weights = ibu_normalized[i]) for i in range(10)])"
   ]
  },
  {
   "cell_type": "code",
   "execution_count": 113,
   "id": "4c5f79d5-8958-450d-93ca-680832c80bff",
   "metadata": {},
   "outputs": [],
   "source": [
    "std_dev = np.std(ibu_normalized, axis=0)\n",
    "non_zero_std_dev_bins = std_dev != 0\n",
    "filtered_data = ibu_normalized[:, non_zero_std_dev_bins]\n",
    "correlation_matrix = np.corrcoef(filtered_data.T)"
   ]
  },
  {
   "cell_type": "code",
   "execution_count": 114,
   "id": "fc545f39-b60b-415f-a7fb-3b9a6418934c",
   "metadata": {
    "scrolled": true
   },
   "outputs": [
    {
     "data": {
      "image/png": "[encoded data removed]",
      "text/plain": [
       "<Figure size 480x480 with 2 Axes>"
      ]
     },
     "metadata": {},
     "output_type": "display_data"
    }
   ],
   "source": [
    "plt.matshow(correlation_matrix, cmap = 'Greens')\n",
    "plt.title(\"Correlation matrix\")\n",
    "plt.colorbar()\n",
    "plt.show()"
   ]
  },
  {
   "cell_type": "code",
   "execution_count": 115,
   "id": "cbf39ef2-daa2-4936-8662-a7d9d1784c89",
   "metadata": {},
   "outputs": [],
   "source": [
    "covariance_matrix = np.cov(ibu_results.T)"
   ]
  },
  {
   "cell_type": "code",
   "execution_count": 116,
   "id": "df2b9b5c-b83a-467b-afba-cc3629296828",
   "metadata": {},
   "outputs": [
    {
     "name": "stdout",
     "output_type": "stream",
     "text": [
      "[[ 0.          0.          0.         ...  0.          0.\n",
      "   0.        ]\n",
      " [ 0.          0.          0.         ...  0.          0.\n",
      "   0.        ]\n",
      " [ 0.          0.          0.         ...  0.          0.\n",
      "   0.        ]\n",
      " ...\n",
      " [ 0.          0.          0.         ...  1.78343434  0.01454545\n",
      "  -0.01292929]\n",
      " [ 0.          0.          0.         ...  0.01454545  4.57131313\n",
      "  -0.39111111]\n",
      " [ 0.          0.          0.         ... -0.01292929 -0.39111111\n",
      "   1.9559596 ]]\n"
     ]
    }
   ],
   "source": [
    "print(covariance_matrix)"
   ]
  },
  {
   "cell_type": "code",
   "execution_count": 122,
   "id": "175d9452-7f1d-41b8-8943-6265c5c82f75",
   "metadata": {},
   "outputs": [
    {
     "ename": "ValueError",
     "evalue": "`sigma` must be positive definite.",
     "output_type": "error",
     "traceback": [
      "\u001b[0;31m---------------------------------------------------------------------------\u001b[0m",
      "\u001b[0;31mLinAlgError\u001b[0m                               Traceback (most recent call last)",
      "File \u001b[0;32m~/anaconda3/envs/python3122/lib/python3.12/site-packages/scipy/optimize/_minpack_py.py:951\u001b[0m, in \u001b[0;36mcurve_fit\u001b[0;34m(f, xdata, ydata, p0, sigma, absolute_sigma, check_finite, bounds, method, jac, full_output, nan_policy, **kwargs)\u001b[0m\n\u001b[1;32m    949\u001b[0m \u001b[38;5;28;01mtry\u001b[39;00m:\n\u001b[1;32m    950\u001b[0m     \u001b[38;5;66;03m# scipy.linalg.cholesky requires lower=True to return L L^T = A\u001b[39;00m\n\u001b[0;32m--> 951\u001b[0m     transform \u001b[38;5;241m=\u001b[39m \u001b[43mcholesky\u001b[49m\u001b[43m(\u001b[49m\u001b[43msigma\u001b[49m\u001b[43m,\u001b[49m\u001b[43m \u001b[49m\u001b[43mlower\u001b[49m\u001b[38;5;241;43m=\u001b[39;49m\u001b[38;5;28;43;01mTrue\u001b[39;49;00m\u001b[43m)\u001b[49m\n\u001b[1;32m    952\u001b[0m \u001b[38;5;28;01mexcept\u001b[39;00m LinAlgError \u001b[38;5;28;01mas\u001b[39;00m e:\n",
      "File \u001b[0;32m~/anaconda3/envs/python3122/lib/python3.12/site-packages/scipy/linalg/_decomp_cholesky.py:88\u001b[0m, in \u001b[0;36mcholesky\u001b[0;34m(a, lower, overwrite_a, check_finite)\u001b[0m\n\u001b[1;32m     45\u001b[0m \u001b[38;5;250m\u001b[39m\u001b[38;5;124;03m\"\"\"\u001b[39;00m\n\u001b[1;32m     46\u001b[0m \u001b[38;5;124;03mCompute the Cholesky decomposition of a matrix.\u001b[39;00m\n\u001b[1;32m     47\u001b[0m \n\u001b[0;32m   (...)\u001b[0m\n\u001b[1;32m     86\u001b[0m \n\u001b[1;32m     87\u001b[0m \u001b[38;5;124;03m\"\"\"\u001b[39;00m\n\u001b[0;32m---> 88\u001b[0m c, lower \u001b[38;5;241m=\u001b[39m \u001b[43m_cholesky\u001b[49m\u001b[43m(\u001b[49m\u001b[43ma\u001b[49m\u001b[43m,\u001b[49m\u001b[43m \u001b[49m\u001b[43mlower\u001b[49m\u001b[38;5;241;43m=\u001b[39;49m\u001b[43mlower\u001b[49m\u001b[43m,\u001b[49m\u001b[43m \u001b[49m\u001b[43moverwrite_a\u001b[49m\u001b[38;5;241;43m=\u001b[39;49m\u001b[43moverwrite_a\u001b[49m\u001b[43m,\u001b[49m\u001b[43m \u001b[49m\u001b[43mclean\u001b[49m\u001b[38;5;241;43m=\u001b[39;49m\u001b[38;5;28;43;01mTrue\u001b[39;49;00m\u001b[43m,\u001b[49m\n\u001b[1;32m     89\u001b[0m \u001b[43m                     \u001b[49m\u001b[43mcheck_finite\u001b[49m\u001b[38;5;241;43m=\u001b[39;49m\u001b[43mcheck_finite\u001b[49m\u001b[43m)\u001b[49m\n\u001b[1;32m     90\u001b[0m \u001b[38;5;28;01mreturn\u001b[39;00m c\n",
      "File \u001b[0;32m~/anaconda3/envs/python3122/lib/python3.12/site-packages/scipy/linalg/_decomp_cholesky.py:36\u001b[0m, in \u001b[0;36m_cholesky\u001b[0;34m(a, lower, overwrite_a, clean, check_finite)\u001b[0m\n\u001b[1;32m     35\u001b[0m \u001b[38;5;28;01mif\u001b[39;00m info \u001b[38;5;241m>\u001b[39m \u001b[38;5;241m0\u001b[39m:\n\u001b[0;32m---> 36\u001b[0m     \u001b[38;5;28;01mraise\u001b[39;00m LinAlgError(\u001b[38;5;124m\"\u001b[39m\u001b[38;5;132;01m%d\u001b[39;00m\u001b[38;5;124m-th leading minor of the array is not positive \u001b[39m\u001b[38;5;124m\"\u001b[39m\n\u001b[1;32m     37\u001b[0m                       \u001b[38;5;124m\"\u001b[39m\u001b[38;5;124mdefinite\u001b[39m\u001b[38;5;124m\"\u001b[39m \u001b[38;5;241m%\u001b[39m info)\n\u001b[1;32m     38\u001b[0m \u001b[38;5;28;01mif\u001b[39;00m info \u001b[38;5;241m<\u001b[39m \u001b[38;5;241m0\u001b[39m:\n",
      "\u001b[0;31mLinAlgError\u001b[0m: 1-th leading minor of the array is not positive definite",
      "\nThe above exception was the direct cause of the following exception:\n",
      "\u001b[0;31mValueError\u001b[0m                                Traceback (most recent call last)",
      "Cell \u001b[0;32mIn[122], line 6\u001b[0m\n\u001b[1;32m      3\u001b[0m gaussian \u001b[38;5;241m=\u001b[39m \u001b[38;5;28;01mlambda\u001b[39;00m x, mu: norm\u001b[38;5;241m.\u001b[39mpdf(x, loc\u001b[38;5;241m=\u001b[39mmu, scale\u001b[38;5;241m=\u001b[39m\u001b[38;5;241m1\u001b[39m)\n\u001b[1;32m      5\u001b[0m \u001b[38;5;28;01mfor\u001b[39;00m i \u001b[38;5;129;01min\u001b[39;00m \u001b[38;5;28mrange\u001b[39m(n_bootstraps):\n\u001b[0;32m----> 6\u001b[0m     popt, pcov \u001b[38;5;241m=\u001b[39m \u001b[43mcurve_fit\u001b[49m\u001b[43m(\u001b[49m\u001b[43mgaussian\u001b[49m\u001b[43m,\u001b[49m\u001b[43m \u001b[49m\u001b[43mbin_centers\u001b[49m\u001b[43m,\u001b[49m\u001b[43m \u001b[49m\u001b[43mibu_normalized\u001b[49m\u001b[43m[\u001b[49m\u001b[43mi\u001b[49m\u001b[43m]\u001b[49m\u001b[43m,\u001b[49m\u001b[43m \u001b[49m\u001b[43mp0\u001b[49m\u001b[38;5;241;43m=\u001b[39;49m\u001b[43m[\u001b[49m\u001b[38;5;241;43m0\u001b[39;49m\u001b[43m]\u001b[49m\u001b[43m,\u001b[49m\u001b[43m \u001b[49m\u001b[43msigma\u001b[49m\u001b[38;5;241;43m=\u001b[39;49m\u001b[43m(\u001b[49m\u001b[43mcovariance_matrix\u001b[49m\u001b[43m)\u001b[49m\n\u001b[1;32m      7\u001b[0m \u001b[43m                          \u001b[49m\u001b[43m)\u001b[49m\n\u001b[1;32m      8\u001b[0m     means[i] \u001b[38;5;241m=\u001b[39m popt[\u001b[38;5;241m0\u001b[39m]\n\u001b[1;32m      9\u001b[0m     param_cov[i] \u001b[38;5;241m=\u001b[39m pcov\n",
      "File \u001b[0;32m~/anaconda3/envs/python3122/lib/python3.12/site-packages/scipy/optimize/_minpack_py.py:953\u001b[0m, in \u001b[0;36mcurve_fit\u001b[0;34m(f, xdata, ydata, p0, sigma, absolute_sigma, check_finite, bounds, method, jac, full_output, nan_policy, **kwargs)\u001b[0m\n\u001b[1;32m    951\u001b[0m         transform \u001b[38;5;241m=\u001b[39m cholesky(sigma, lower\u001b[38;5;241m=\u001b[39m\u001b[38;5;28;01mTrue\u001b[39;00m)\n\u001b[1;32m    952\u001b[0m     \u001b[38;5;28;01mexcept\u001b[39;00m LinAlgError \u001b[38;5;28;01mas\u001b[39;00m e:\n\u001b[0;32m--> 953\u001b[0m         \u001b[38;5;28;01mraise\u001b[39;00m \u001b[38;5;167;01mValueError\u001b[39;00m(\u001b[38;5;124m\"\u001b[39m\u001b[38;5;124m`sigma` must be positive definite.\u001b[39m\u001b[38;5;124m\"\u001b[39m) \u001b[38;5;28;01mfrom\u001b[39;00m \u001b[38;5;21;01me\u001b[39;00m\n\u001b[1;32m    954\u001b[0m \u001b[38;5;28;01melse\u001b[39;00m:\n\u001b[1;32m    955\u001b[0m     \u001b[38;5;28;01mraise\u001b[39;00m \u001b[38;5;167;01mValueError\u001b[39;00m(\u001b[38;5;124m\"\u001b[39m\u001b[38;5;124m`sigma` has incorrect shape.\u001b[39m\u001b[38;5;124m\"\u001b[39m)\n",
      "\u001b[0;31mValueError\u001b[0m: `sigma` must be positive definite."
     ]
    }
   ],
   "source": [
    "means = np.empty((n_bootstraps, 1))\n",
    "param_cov = np.empty((n_bootstraps, 1, 1))\n",
    "gaussian = lambda x, mu: norm.pdf(x, loc=mu, scale=1)\n",
    "\n",
    "for i in range(n_bootstraps):\n",
    "    popt, pcov = curve_fit(gaussian, bin_centers, ibu_normalized[i], p0=[0], #sigma=(covariance_matrix)\n",
    "                          )\n",
    "    means[i] = popt[0]\n",
    "    param_cov[i] = pcov"
   ]
  },
  {
   "cell_type": "code",
   "execution_count": 121,
   "id": "ab39e629-1417-46eb-9641-77d9a956bb02",
   "metadata": {},
   "outputs": [
    {
     "data": {
      "text/plain": [
       "0.0028685844726631924"
      ]
     },
     "execution_count": 121,
     "metadata": {},
     "output_type": "execute_result"
    }
   ],
   "source": [
    "np.mean(param_cov)"
   ]
  },
  {
   "cell_type": "code",
   "execution_count": 120,
   "id": "f5cba61f-2afd-4071-ab8a-7ac6dfbd49df",
   "metadata": {},
   "outputs": [
    {
     "name": "stdout",
     "output_type": "stream",
     "text": [
      "-0.03665665374702377 0.03959237188392435\n"
     ]
    }
   ],
   "source": [
    "final_mean = np.mean(means)\n",
    "mean_std_error = np.std(means)\n",
    "print(final_mean, mean_std_error)"
   ]
  },
  {
   "cell_type": "code",
   "execution_count": 1,
   "id": "9fa97336-1c6a-459e-bea5-19ba4a973196",
   "metadata": {},
   "outputs": [
    {
     "ename": "NameError",
     "evalue": "name 'fitted_params' is not defined",
     "output_type": "error",
     "traceback": [
      "\u001b[0;31m---------------------------------------------------------------------------\u001b[0m",
      "\u001b[0;31mNameError\u001b[0m                                 Traceback (most recent call last)",
      "Cell \u001b[0;32mIn[1], line 1\u001b[0m\n\u001b[0;32m----> 1\u001b[0m means \u001b[38;5;241m=\u001b[39m \u001b[43mfitted_params\u001b[49m[:, \u001b[38;5;241m0\u001b[39m]\n\u001b[1;32m      3\u001b[0m final_mean \u001b[38;5;241m=\u001b[39m np\u001b[38;5;241m.\u001b[39mmean(means)\n\u001b[1;32m      4\u001b[0m mean_std_error \u001b[38;5;241m=\u001b[39m np\u001b[38;5;241m.\u001b[39mstd(means)\n",
      "\u001b[0;31mNameError\u001b[0m: name 'fitted_params' is not defined"
     ]
    }
   ],
   "source": [
    "final_mean = np.mean(means)\n",
    "mean_std_error = np.std(means)\n",
    "\n",
    "sorted_means = np.sort(means)\n",
    "lower_bound = np.percentile(sorted_means, (100 - 68)/2)\n",
    "upper_bound = np.percentile(sorted_means, (100 + 68)/2)\n",
    "\n",
    "error_down = final_mean - lower_bound\n",
    "error_up = upper_bound - final_mean\n",
    "\n",
    "common_exponent = np.floor(np.log10(abs(final_mean)))\n",
    "\n",
    "# Scale the values to have the common exponent\n",
    "scaled_mean = final_mean / 10**common_exponent\n",
    "scaled_error_down = error_down / 10**common_exponent\n",
    "scaled_error_up = error_up / 10**common_exponent\n",
    "\n",
    "# Format the values with two decimal places\n",
    "formatted_mean = f\"{scaled_mean:.2f}\"\n",
    "formatted_error_down = f\"{scaled_error_down:.2f}\"\n",
    "formatted_error_up = f\"{scaled_error_up:.2f}\"\n",
    "\n",
    "# Create the LaTeX string with the common exponent\n",
    "latex_string = (\n",
    "    f\"The 90% confidence interval for $\\\\mu$ is: \"\n",
    "    f\"$\\\\mu = ({formatted_mean}_{{-{formatted_error_down}}}^{{+{formatted_error_up}}}) \\\\times 10^{{{int(common_exponent)}}}$\"\n",
    ")\n",
    "\n",
    "display(Latex(latex_string))"
   ]
  },
  {
   "cell_type": "code",
   "execution_count": null,
   "id": "46d76d78-cd53-4c46-bbf4-f5388a043927",
   "metadata": {},
   "outputs": [],
   "source": [
    "plt.figure(figsize=(6, 4))\n",
    "plt.hist(data_streams[0], label='Truth', density=True, bins=n_bins)\n",
    "plt.plot(bin_centers, norm.pdf(bin_centers, final_mean), 'r-', label=f'Fit: mu={final_mean:.2f}')\n",
    "plt.xlabel('Bin Centers')\n",
    "plt.ylabel('Probability Density')\n",
    "plt.legend()\n",
    "plt.show()"
   ]
  },
  {
   "cell_type": "code",
   "execution_count": null,
   "id": "6949c819-ad88-4f95-a6f8-41ed0b566670",
   "metadata": {},
   "outputs": [],
   "source": []
  }
 ],
 "metadata": {
  "kernelspec": {
   "display_name": "Python 3.12.2 (TF, CUDA)",
   "language": "python",
   "name": "python3122"
  },
  "language_info": {
   "codemirror_mode": {
    "name": "ipython",
    "version": 3
   },
   "file_extension": ".py",
   "mimetype": "text/x-python",
   "name": "python",
   "nbconvert_exporter": "python",
   "pygments_lexer": "ipython3",
   "version": "3.12.2"
  }
 },
 "nbformat": 4,
 "nbformat_minor": 5
}
