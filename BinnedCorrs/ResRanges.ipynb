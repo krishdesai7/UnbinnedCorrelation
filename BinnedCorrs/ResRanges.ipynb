{
 "cells": [
  {
   "cell_type": "code",
   "execution_count": 1,
   "id": "7f553726-cd64-440d-984d-da51c1df30f5",
   "metadata": {},
   "outputs": [],
   "source": [
    "import sys\n",
    "original_sys_path = sys.path.copy()\n",
    "sys.path.append('/global/home/users/krishdesai/UnbinnedCorrelation/')\n",
    "from ConfidenceIntervalScript import *\n",
    "sys.path = original_sys_path"
   ]
  },
  {
   "cell_type": "code",
   "execution_count": 2,
   "id": "84951a49-4db0-4207-bf3e-8ca5f29595db",
   "metadata": {},
   "outputs": [],
   "source": [
    "import numpy as np\n",
    "import matplotlib.pyplot as plt\n",
    "plt.rcParams['font.family'] = 'serif'\n",
    "plt.rcParams['font.size'] = 24"
   ]
  },
  {
   "cell_type": "code",
   "execution_count": 3,
   "id": "ceb60921-4726-4153-9de6-e38a30655909",
   "metadata": {},
   "outputs": [
    {
     "name": "stdout",
     "output_type": "stream",
     "text": [
      "Running with smearing: 1e-05\n"
     ]
    },
    {
     "name": "stderr",
     "output_type": "stream",
     "text": [
      "/global/home/users/krishdesai/UnbinnedCorrelation/ConfidenceIntervalScript.py:21: RuntimeWarning: invalid value encountered in divide\n",
      "  normalize = lambda x: x / np.sum(x, axis=0)\n"
     ]
    },
    {
     "name": "stdout",
     "output_type": "stream",
     "text": [
      "Running with smearing: 0.25\n"
     ]
    },
    {
     "ename": "ValueError",
     "evalue": "f(a) and f(b) must have different signs",
     "output_type": "error",
     "traceback": [
      "\u001b[0;31m---------------------------------------------------------------------------\u001b[0m",
      "\u001b[0;31mValueError\u001b[0m                                Traceback (most recent call last)",
      "Cell \u001b[0;32mIn[3], line 6\u001b[0m\n\u001b[1;32m      4\u001b[0m \u001b[38;5;28;01mfor\u001b[39;00m smearing \u001b[38;5;129;01min\u001b[39;00m smearings:\n\u001b[1;32m      5\u001b[0m     \u001b[38;5;28mprint\u001b[39m(\u001b[38;5;124mf\u001b[39m\u001b[38;5;124m\"\u001b[39m\u001b[38;5;124mRunning with smearing: \u001b[39m\u001b[38;5;132;01m{\u001b[39;00msmearing\u001b[38;5;132;01m}\u001b[39;00m\u001b[38;5;124m\"\u001b[39m)\n\u001b[0;32m----> 6\u001b[0m     result \u001b[38;5;241m=\u001b[39m \u001b[43mmain\u001b[49m\u001b[43m(\u001b[49m\u001b[43msmearing\u001b[49m\u001b[38;5;241;43m=\u001b[39;49m\u001b[43msmearing\u001b[49m\u001b[43m)\u001b[49m\n\u001b[1;32m      7\u001b[0m     results\u001b[38;5;241m.\u001b[39mappend(result)\n",
      "File \u001b[0;32m~/UnbinnedCorrelation/ConfidenceIntervalScript.py:152\u001b[0m, in \u001b[0;36mmain\u001b[0;34m(smearing)\u001b[0m\n\u001b[1;32m    144\u001b[0m     fitted_params_diag[i] \u001b[38;5;241m=\u001b[39m result_diag\u001b[38;5;241m.\u001b[39mx\n\u001b[1;32m    145\u001b[0m     intervals_diag[i, \u001b[38;5;241m0\u001b[39m] \u001b[38;5;241m=\u001b[39m find_confidence_interval(neg_log_likelihood,\n\u001b[1;32m    146\u001b[0m                                            \u001b[38;5;241m0\u001b[39m, result_diag\u001b[38;5;241m.\u001b[39mx,\n\u001b[1;32m    147\u001b[0m                                            nll_min_diag,\n\u001b[0;32m   (...)\u001b[0m\n\u001b[1;32m    150\u001b[0m                                            cov_diag,\n\u001b[1;32m    151\u001b[0m                                            bounds)\n\u001b[0;32m--> 152\u001b[0m     intervals_diag[i, \u001b[38;5;241m1\u001b[39m] \u001b[38;5;241m=\u001b[39m \u001b[43mfind_confidence_interval\u001b[49m\u001b[43m(\u001b[49m\u001b[43mneg_log_likelihood\u001b[49m\u001b[43m,\u001b[49m\n\u001b[1;32m    153\u001b[0m \u001b[43m                                              \u001b[49m\u001b[38;5;241;43m1\u001b[39;49m\u001b[43m,\u001b[49m\n\u001b[1;32m    154\u001b[0m \u001b[43m                                              \u001b[49m\u001b[43mresult_diag\u001b[49m\u001b[38;5;241;43m.\u001b[39;49m\u001b[43mx\u001b[49m\u001b[43m,\u001b[49m\n\u001b[1;32m    155\u001b[0m \u001b[43m                                              \u001b[49m\u001b[43mnll_min_diag\u001b[49m\u001b[43m,\u001b[49m\n\u001b[1;32m    156\u001b[0m \u001b[43m                                              \u001b[49m\u001b[43mbins\u001b[49m\u001b[43m,\u001b[49m\n\u001b[1;32m    157\u001b[0m \u001b[43m                                              \u001b[49m\u001b[43munfolded_results_last\u001b[49m\u001b[43m[\u001b[49m\u001b[43mi\u001b[49m\u001b[43m]\u001b[49m\u001b[43m,\u001b[49m\n\u001b[1;32m    158\u001b[0m \u001b[43m                                              \u001b[49m\u001b[43mcov_diag\u001b[49m\u001b[43m,\u001b[49m\n\u001b[1;32m    159\u001b[0m \u001b[43m                                              \u001b[49m\u001b[43mbounds\u001b[49m\u001b[43m)\u001b[49m\n\u001b[1;32m    160\u001b[0m \u001b[38;5;28;01mreturn\u001b[39;00m {\n\u001b[1;32m    161\u001b[0m     \u001b[38;5;124m\"\u001b[39m\u001b[38;5;124mfull_cov\u001b[39m\u001b[38;5;124m\"\u001b[39m: {\n\u001b[1;32m    162\u001b[0m         \u001b[38;5;124m\"\u001b[39m\u001b[38;5;124mmu\u001b[39m\u001b[38;5;124m\"\u001b[39m: np\u001b[38;5;241m.\u001b[39mmean(fitted_params[:, \u001b[38;5;241m0\u001b[39m]),\n\u001b[0;32m   (...)\u001b[0m\n\u001b[1;32m    177\u001b[0m     }\n\u001b[1;32m    178\u001b[0m }\n",
      "File \u001b[0;32m~/UnbinnedCorrelation/ConfidenceIntervalScript.py:63\u001b[0m, in \u001b[0;36mfind_confidence_interval\u001b[0;34m(nll, param_index, param_value, nll_min, x, y, cov, bounds)\u001b[0m\n\u001b[1;32m     61\u001b[0m     \u001b[38;5;28;01mreturn\u001b[39;00m nll(test_params, x, y, cov) \u001b[38;5;241m-\u001b[39m (nll_min \u001b[38;5;241m+\u001b[39m \u001b[38;5;241m0.5\u001b[39m)\n\u001b[1;32m     62\u001b[0m lower_bound \u001b[38;5;241m=\u001b[39m brentq(target_function, bounds[param_index][\u001b[38;5;241m0\u001b[39m], param_value[param_index])\n\u001b[0;32m---> 63\u001b[0m upper_bound \u001b[38;5;241m=\u001b[39m \u001b[43mbrentq\u001b[49m\u001b[43m(\u001b[49m\u001b[43mtarget_function\u001b[49m\u001b[43m,\u001b[49m\u001b[43m \u001b[49m\u001b[43mparam_value\u001b[49m\u001b[43m[\u001b[49m\u001b[43mparam_index\u001b[49m\u001b[43m]\u001b[49m\u001b[43m,\u001b[49m\u001b[43m \u001b[49m\u001b[43mbounds\u001b[49m\u001b[43m[\u001b[49m\u001b[43mparam_index\u001b[49m\u001b[43m]\u001b[49m\u001b[43m[\u001b[49m\u001b[38;5;241;43m1\u001b[39;49m\u001b[43m]\u001b[49m\u001b[43m)\u001b[49m\n\u001b[1;32m     64\u001b[0m \u001b[38;5;28;01mreturn\u001b[39;00m lower_bound, upper_bound\n",
      "File \u001b[0;32m~/anaconda3/envs/python3122/lib/python3.12/site-packages/scipy/optimize/_zeros_py.py:809\u001b[0m, in \u001b[0;36mbrentq\u001b[0;34m(f, a, b, args, xtol, rtol, maxiter, full_output, disp)\u001b[0m\n\u001b[1;32m    807\u001b[0m     \u001b[38;5;28;01mraise\u001b[39;00m \u001b[38;5;167;01mValueError\u001b[39;00m(\u001b[38;5;124mf\u001b[39m\u001b[38;5;124m\"\u001b[39m\u001b[38;5;124mrtol too small (\u001b[39m\u001b[38;5;132;01m{\u001b[39;00mrtol\u001b[38;5;132;01m:\u001b[39;00m\u001b[38;5;124mg\u001b[39m\u001b[38;5;132;01m}\u001b[39;00m\u001b[38;5;124m < \u001b[39m\u001b[38;5;132;01m{\u001b[39;00m_rtol\u001b[38;5;132;01m:\u001b[39;00m\u001b[38;5;124mg\u001b[39m\u001b[38;5;132;01m}\u001b[39;00m\u001b[38;5;124m)\u001b[39m\u001b[38;5;124m\"\u001b[39m)\n\u001b[1;32m    808\u001b[0m f \u001b[38;5;241m=\u001b[39m _wrap_nan_raise(f)\n\u001b[0;32m--> 809\u001b[0m r \u001b[38;5;241m=\u001b[39m \u001b[43m_zeros\u001b[49m\u001b[38;5;241;43m.\u001b[39;49m\u001b[43m_brentq\u001b[49m\u001b[43m(\u001b[49m\u001b[43mf\u001b[49m\u001b[43m,\u001b[49m\u001b[43m \u001b[49m\u001b[43ma\u001b[49m\u001b[43m,\u001b[49m\u001b[43m \u001b[49m\u001b[43mb\u001b[49m\u001b[43m,\u001b[49m\u001b[43m \u001b[49m\u001b[43mxtol\u001b[49m\u001b[43m,\u001b[49m\u001b[43m \u001b[49m\u001b[43mrtol\u001b[49m\u001b[43m,\u001b[49m\u001b[43m \u001b[49m\u001b[43mmaxiter\u001b[49m\u001b[43m,\u001b[49m\u001b[43m \u001b[49m\u001b[43margs\u001b[49m\u001b[43m,\u001b[49m\u001b[43m \u001b[49m\u001b[43mfull_output\u001b[49m\u001b[43m,\u001b[49m\u001b[43m \u001b[49m\u001b[43mdisp\u001b[49m\u001b[43m)\u001b[49m\n\u001b[1;32m    810\u001b[0m \u001b[38;5;28;01mreturn\u001b[39;00m results_c(full_output, r, \u001b[38;5;124m\"\u001b[39m\u001b[38;5;124mbrentq\u001b[39m\u001b[38;5;124m\"\u001b[39m)\n",
      "\u001b[0;31mValueError\u001b[0m: f(a) and f(b) must have different signs"
     ]
    }
   ],
   "source": [
    "smearings = [1e-5, 0.25, 0.5, 0.75] #np.linspace(1e-5, 0.75, 5)\n",
    "results = []\n",
    "\n",
    "for smearing in smearings:\n",
    "    print(f\"Running with smearing: {smearing}\")\n",
    "    result = main(smearing=smearing)\n",
    "    results.append(result)"
   ]
  },
  {
   "cell_type": "code",
   "execution_count": null,
   "id": "81d6d21e-67f5-478a-a757-715615e2d4ab",
   "metadata": {},
   "outputs": [],
   "source": [
    "full_cov = {}\n",
    "diag_cov = {}\n",
    "\n",
    "parameters = ['mu', 'var']\n",
    "attributes = ['', 'sigma_on_', 'asy_']\n",
    "\n",
    "for parameter in parameters:\n",
    "    for attr in attributes:\n",
    "        full_cov[attr + parameter] = [res['full_cov'][attr + parameter] for res in results]\n",
    "        diag_cov[attr + parameter] = [res['diag_cov'][attr + parameter] for res in results]"
   ]
  },
  {
   "cell_type": "code",
   "execution_count": null,
   "id": "1c03bd8a-80ef-4b2f-9338-4d085f78f34d",
   "metadata": {},
   "outputs": [],
   "source": [
    "full_cov_ratio = np.array(full_cov['sigma_on_mu']) / np.array(full_cov['asy_mu'])\n",
    "diag_cov_ratio_full_asy = np.array(diag_cov['sigma_on_mu']) / np.array(full_cov['asy_mu'])\n",
    "full_cov_ratio_diag_asy = np.array(full_cov['sigma_on_mu']) / np.array(diag_cov['asy_mu'])\n",
    "diag_cov_ratio_diag_asy = np.array(diag_cov['sigma_on_mu']) / np.array(diag_cov['asy_mu'])\n",
    "\n",
    "# Create a figure and a set of subplots with 1 row and 3 columns\n",
    "fig, ax2 = plt.subplots(figsize=(10, 6))  # Expanding to three plots\n",
    "\n",
    "\n",
    "# Second subplot: Comparison of ratios using Full Cov asy_mu for both\n",
    "ax2.plot(smearings[:16], full_cov_ratio[:-1], label='Full', marker='o', linestyle='-')\n",
    "ax2.plot(smearings[:16], diag_cov_ratio_full_asy[:-1], label='Diag', marker='x', linestyle='-.')\n",
    "ax2.set_xlabel('Smearing')\n",
    "ax2.set_ylabel('Ratio to Full Asy($\\\\mu$)')\n",
    "ax2.legend()\n",
    "ax2.grid(True)\n",
    "ax2.set_xlim(0, 0.5)\n",
    "#ax2.set_ylim(0, 2)\n",
    "\n",
    "plt.savefig('figures/mu_binned_corrs.pdf', bbox_inches='tight')\n",
    "plt.show()\n"
   ]
  },
  {
   "cell_type": "code",
   "execution_count": null,
   "id": "ac601c65-6664-4c8b-9c9d-d4146cd76679",
   "metadata": {},
   "outputs": [],
   "source": [
    "full_cov_ratio = np.array(full_cov['sigma_on_var']) / np.array(full_cov['asy_var'])\n",
    "diag_cov_ratio_full_asy = np.array(diag_cov['sigma_on_var']) / np.array(full_cov['asy_var'])\n",
    "full_cov_ratio_diag_asy = np.array(full_cov['sigma_on_var']) / np.array(diag_cov['asy_var'])\n",
    "diag_cov_ratio_diag_asy = np.array(diag_cov['sigma_on_var']) / np.array(diag_cov['asy_var'])\n",
    "\n",
    "# Create a figure and a set of subplots with 1 row and 3 columns\n",
    "fig, ax2 = plt.subplots(figsize=(10, 6))  # Expanding to three plots\n",
    "\n",
    "# Second subplot: Comparison of ratios using Full Cov asy_sigma for both\n",
    "ax2.plot(smearings[:17], full_cov_ratio, label='Full', marker='o', linestyle='-')\n",
    "ax2.plot(smearings[:17], diag_cov_ratio_full_asy, label='Diag', marker='x', linestyle='-.')\n",
    "ax2.set_xlabel('Smearing')\n",
    "ax2.set_ylabel('Ratio to Full Asy($\\\\sigma^2$)')\n",
    "ax2.legend()\n",
    "ax2.grid(True)\n",
    "ax2.set_xlim(0, 0.5)\n",
    "#ax2.set_ylim(0, 2)\n",
    "\n",
    "plt.savefig('figures/sigma_binned_corrs.pdf', bbox_inches='tight')\n",
    "plt.show()"
   ]
  },
  {
   "cell_type": "code",
   "execution_count": null,
   "id": "40ec7786-121a-4fc2-bdbe-b16ac281e055",
   "metadata": {},
   "outputs": [],
   "source": [
    "fig, ax = plt.subplots(1, 2, figsize = (20, 6))\n",
    "ax[0].plot(smearings[:16], full_cov['sigma_on_mu'][:-1], label = 'CI full', marker='o', linestyle='')\n",
    "ax[0].plot(smearings[:16], full_cov['asy_mu'][:-1], label = 'Asy', marker='x', linestyle='-')\n",
    "ax[0].set_title('$\\\\mu$')\n",
    "ax[0].plot(smearings[:16], diag_cov['sigma_on_mu'][:-1], label = 'CI diag', marker='^', linestyle=':')\n",
    "ax[0].set_xlabel('Smearing')\n",
    "ax[0].set_ylabel('$1\\\\sigma$ CI')\n",
    "ax[0].legend()\n",
    "\n",
    "ax[1].plot(smearings[:17], full_cov['sigma_on_var'], label = 'CI full', marker='o', linestyle='')\n",
    "ax[1].plot(smearings[:17], full_cov['asy_var'], label = 'Asy', marker='x', linestyle='-')\n",
    "ax[1].set_title('$\\\\sigma^2$')\n",
    "ax[1].plot(smearings[:17], diag_cov['sigma_on_var'], label = 'CI diag', marker='^', linestyle=':')\n",
    "ax[1].set_xlabel('Smearing')\n",
    "ax[1].set_ylabel('$1\\\\sigma$ CI')\n",
    "ax[1].legend()\n",
    "\n",
    "plt.savefig('figures/Asymptotics.pdf', bbox_inches = 'tight')\n",
    "plt.show()"
   ]
  },
  {
   "cell_type": "code",
   "execution_count": null,
   "id": "86bdb225-19e8-48d9-8a68-587b7b00bee2",
   "metadata": {},
   "outputs": [],
   "source": [
    "fig, ax = plt.subplots(1, 2, figsize = (20, 6))\n",
    "ax[0].plot(smearings[:16], full_cov['mu'][:-1], label = 'full', marker='o', linestyle='--')\n",
    "#ax[0].plot(smearings[:16], full_cov['asy_mu'][:-1], label = 'Asy', marker='x', linestyle='-')\n",
    "ax[0].plot(smearings[:16], diag_cov['mu'][:-1], label = 'diag', marker='^', linestyle=':')\n",
    "ax[0].set_xlabel('Smearing')\n",
    "ax[0].set_ylabel('$\\\\mu$')\n",
    "ax[0].hlines(0.2, 0, 0.5, color = 'red', label = 'truth')\n",
    "ax[0].legend()\n",
    "\n",
    "ax[1].plot(smearings[:17], full_cov['var'], label = 'full', marker='o', linestyle='--')\n",
    "#ax[1].plot(smearings[:17], full_cov['asy_var'], label = 'Asy', marker='x', linestyle='-')\n",
    "ax[1].plot(smearings[:17], diag_cov['var'], label = 'diag', marker='^', linestyle=':')\n",
    "ax[1].set_xlabel('Smearing')\n",
    "ax[1].set_ylabel('$\\\\sigma^2$')\n",
    "ax[1].hlines(0.81, 0, 0.5, color = 'red', label = 'truth')\n",
    "\n",
    "fig.suptitle('Bias')\n",
    "\n",
    "plt.savefig('figures/bias.pdf', bbox_inches = 'tight')\n",
    "plt.show()"
   ]
  },
  {
   "cell_type": "code",
   "execution_count": null,
   "id": "a2b16ce7-9b88-4b95-a450-d8f2058ab1c2",
   "metadata": {},
   "outputs": [],
   "source": []
  }
 ],
 "metadata": {
  "kernelspec": {
   "display_name": "Python 3 (ipykernel)",
   "language": "python",
   "name": "python3"
  },
  "language_info": {
   "codemirror_mode": {
    "name": "ipython",
    "version": 3
   },
   "file_extension": ".py",
   "mimetype": "text/x-python",
   "name": "python",
   "nbconvert_exporter": "python",
   "pygments_lexer": "ipython3",
   "version": "3.12.2"
  }
 },
 "nbformat": 4,
 "nbformat_minor": 5
}
